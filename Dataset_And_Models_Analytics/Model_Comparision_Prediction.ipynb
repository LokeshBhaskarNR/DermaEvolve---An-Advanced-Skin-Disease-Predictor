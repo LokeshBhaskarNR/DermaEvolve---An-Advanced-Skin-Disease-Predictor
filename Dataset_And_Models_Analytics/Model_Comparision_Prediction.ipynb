{
 "cells": [
  {
   "cell_type": "code",
   "execution_count": 1,
   "id": "e489e2ea-af87-4d85-a147-84d8e3b369c5",
   "metadata": {},
   "outputs": [],
   "source": [
    "import os\n",
    "import numpy as np\n",
    "import tensorflow as tf\n",
    "from tensorflow.keras import layers, models\n",
    "from tensorflow.keras.preprocessing.image import ImageDataGenerator\n",
    "from tensorflow.keras.preprocessing.image import ImageDataGenerator, load_img, img_to_array\n",
    "from tensorflow.keras.callbacks import Callback\n",
    "from sklearn.metrics import confusion_matrix, classification_report\n",
    "import matplotlib.pyplot as plt\n",
    "import seaborn as sns\n",
    "\n",
    "import time"
   ]
  },
  {
   "cell_type": "code",
   "execution_count": 2,
   "id": "71729e5f-21f6-4b25-9312-1b70df832757",
   "metadata": {},
   "outputs": [],
   "source": [
    "dataset_dir = r\"D:\\DermaEvolve_MAJOR\\4_SMOTE_OS\\Synthetic_Images_unprocessed\"\n",
    "image_size = (64, 64)\n",
    "batch_size = 32\n",
    "num_classes = len(os.listdir(dataset_dir))"
   ]
  },
  {
   "cell_type": "code",
   "execution_count": 3,
   "id": "443e2293-d349-4e50-bec0-8283d032f6cd",
   "metadata": {},
   "outputs": [],
   "source": [
    "train_datagen = ImageDataGenerator(\n",
    "    rescale=1.0/255,\n",
    "    validation_split=0.2,\n",
    "    horizontal_flip=True,\n",
    "    vertical_flip=True\n",
    ")"
   ]
  },
  {
   "cell_type": "code",
   "execution_count": 4,
   "id": "b9192644-8737-493c-a812-df1ba9d0abdc",
   "metadata": {},
   "outputs": [
    {
     "name": "stdout",
     "output_type": "stream",
     "text": [
      "Found 101127 images belonging to 13 classes.\n"
     ]
    }
   ],
   "source": [
    "train_generator = train_datagen.flow_from_directory(\n",
    "    dataset_dir,\n",
    "    target_size=image_size,\n",
    "    batch_size=batch_size,\n",
    "    class_mode='categorical',\n",
    "    subset='training'\n",
    ")"
   ]
  },
  {
   "cell_type": "code",
   "execution_count": 5,
   "id": "6fb45636-9a5b-4a4f-96b4-b08ac437be7f",
   "metadata": {},
   "outputs": [
    {
     "name": "stdout",
     "output_type": "stream",
     "text": [
      "Found 25272 images belonging to 13 classes.\n"
     ]
    }
   ],
   "source": [
    "val_generator = train_datagen.flow_from_directory(\n",
    "    dataset_dir,\n",
    "    target_size=image_size,\n",
    "    batch_size=batch_size,\n",
    "    class_mode='categorical',\n",
    "    subset='validation',\n",
    "    shuffle=False\n",
    ")"
   ]
  },
  {
   "cell_type": "code",
   "execution_count": 6,
   "id": "93acc91f-fdff-444b-99e8-0371a09e2f71",
   "metadata": {},
   "outputs": [],
   "source": [
    "def predict_image(model, image_path):\n",
    "    img = load_img(image_path, target_size=image_size)\n",
    "    img_array = img_to_array(img)\n",
    "    img_array = np.expand_dims(img_array, axis=0)\n",
    "    img_array = img_array / 255.0 \n",
    "\n",
    "    predictions = model.predict(img_array)\n",
    "    predicted_class_index = np.argmax(predictions, axis=1)[0]\n",
    "    \n",
    "    class_labels = list(val_generator.class_indices.keys())\n",
    "    predicted_class_label = class_labels[predicted_class_index]\n",
    "\n",
    "    return predicted_class_label, predicted_class_index"
   ]
  },
  {
   "cell_type": "code",
   "execution_count": 7,
   "id": "26563f47-3638-4860-ae42-1893ad6382c2",
   "metadata": {},
   "outputs": [],
   "source": [
    "model_paths = {\n",
    "    \"CNN_Customized\": r\"D:\\DermaEvolve_MAJOR\\MODELS\\CNN_Customized\\dermaevolve_custom_cnn_model.keras\",\n",
    "    \"DenseNet_169\": r\"D:\\DermaEvolve_MAJOR\\MODELS\\DenseNet_169\\densenet_169_model.keras\",\n",
    "    \"MobileNet\": r\"D:\\DermaEvolve_MAJOR\\MODELS\\MobileNet\\mobilenet_model.keras\",\n",
    "    \"NasNet\": r\"D:\\DermaEvolve_MAJOR\\MODELS\\NasNet\\nasnet_model.keras\",\n",
    "    \"ResNet_50\" : r\"D:\\DermaEvolve_MAJOR\\MODELS\\ResNet_50\\resnet_50_model.keras\"\n",
    "}"
   ]
  },
  {
   "cell_type": "code",
   "execution_count": 12,
   "id": "b15d6684-1ca4-40fe-a610-1a097743f1d6",
   "metadata": {},
   "outputs": [],
   "source": [
    "def image_iterate(image_path, actual):\n",
    "\n",
    "    for model_name, model_path in model_paths.items():\n",
    "        model = tf.keras.models.load_model(model_path)\n",
    "        print(\"-------------------------------------------------------------------------------------------------\")\n",
    "        print(model_name)\n",
    "        start = time.time()\n",
    "        predicted_class_label, predicted_class_index = predict_image(model, image_path)\n",
    "        end = time.time()\n",
    "        elapsed_time = end - start\n",
    "        if predicted_class_label == actual:\n",
    "            correctness = \"✅\"\n",
    "        else:\n",
    "            correctness = \"❌\"\n",
    "        print(f\"Time Consumed = {elapsed_time:.2f} seconds\")\n",
    "        print(f\"Predicted Class: {predicted_class_label}, Class Index: {predicted_class_index} -----> \", correctness)"
   ]
  },
  {
   "cell_type": "code",
   "execution_count": 13,
   "id": "dcb4443f-8e44-4c66-8a1a-2e511e9c7141",
   "metadata": {},
   "outputs": [
    {
     "name": "stdout",
     "output_type": "stream",
     "text": [
      "-------------------------------------------------------------------------------------------------\n",
      "CNN_Customized\n",
      "\u001b[1m1/1\u001b[0m \u001b[32m━━━━━━━━━━━━━━━━━━━━\u001b[0m\u001b[37m\u001b[0m \u001b[1m0s\u001b[0m 339ms/step\n",
      "Time Consumed = 0.41 seconds\n",
      "Predicted Class: Dermatofibroma, Class Index: 3 ----->  ✅\n",
      "-------------------------------------------------------------------------------------------------\n",
      "DenseNet_169\n",
      "\u001b[1m1/1\u001b[0m \u001b[32m━━━━━━━━━━━━━━━━━━━━\u001b[0m\u001b[37m\u001b[0m \u001b[1m9s\u001b[0m 9s/step\n",
      "Time Consumed = 9.13 seconds\n",
      "Predicted Class: Dermatofibroma, Class Index: 3 ----->  ✅\n",
      "-------------------------------------------------------------------------------------------------\n",
      "MobileNet\n",
      "\u001b[1m1/1\u001b[0m \u001b[32m━━━━━━━━━━━━━━━━━━━━\u001b[0m\u001b[37m\u001b[0m \u001b[1m1s\u001b[0m 1s/step\n",
      "Time Consumed = 1.08 seconds\n",
      "Predicted Class: Dermatofibroma, Class Index: 3 ----->  ✅\n",
      "-------------------------------------------------------------------------------------------------\n",
      "NasNet\n",
      "\u001b[1m1/1\u001b[0m \u001b[32m━━━━━━━━━━━━━━━━━━━━\u001b[0m\u001b[37m\u001b[0m \u001b[1m9s\u001b[0m 9s/step\n",
      "Time Consumed = 9.47 seconds\n",
      "Predicted Class: Dermatofibroma, Class Index: 3 ----->  ✅\n",
      "-------------------------------------------------------------------------------------------------\n",
      "ResNet_50\n",
      "\u001b[1m1/1\u001b[0m \u001b[32m━━━━━━━━━━━━━━━━━━━━\u001b[0m\u001b[37m\u001b[0m \u001b[1m3s\u001b[0m 3s/step\n",
      "Time Consumed = 2.85 seconds\n",
      "Predicted Class: Blue_Naevus, Class Index: 2 ----->  ❌\n"
     ]
    }
   ],
   "source": [
    "image_path = r\"D:\\DermaEvolve_MAJOR\\4_SMOTE_OS\\Synthetic_Images_unprocessed\\Dermatofibroma\\smote_3786.jpg\"\n",
    "actual = \"Dermatofibroma\"\n",
    "image_iterate(image_path, actual)"
   ]
  },
  {
   "cell_type": "code",
   "execution_count": 14,
   "id": "c1fa6faf-5d7b-40b7-82fe-47b7aa26563c",
   "metadata": {},
   "outputs": [
    {
     "name": "stdout",
     "output_type": "stream",
     "text": [
      "-------------------------------------------------------------------------------------------------\n",
      "CNN_Customized\n",
      "\u001b[1m1/1\u001b[0m \u001b[32m━━━━━━━━━━━━━━━━━━━━\u001b[0m\u001b[37m\u001b[0m \u001b[1m0s\u001b[0m 330ms/step\n",
      "Time Consumed = 0.38 seconds\n",
      "Predicted Class: Melanocytic_Nevus, Class Index: 6 ----->  ✅\n",
      "-------------------------------------------------------------------------------------------------\n",
      "DenseNet_169\n",
      "\u001b[1m1/1\u001b[0m \u001b[32m━━━━━━━━━━━━━━━━━━━━\u001b[0m\u001b[37m\u001b[0m \u001b[1m9s\u001b[0m 9s/step\n",
      "Time Consumed = 9.42 seconds\n",
      "Predicted Class: Melanoma, Class Index: 7 ----->  ❌\n",
      "-------------------------------------------------------------------------------------------------\n",
      "MobileNet\n",
      "\u001b[1m1/1\u001b[0m \u001b[32m━━━━━━━━━━━━━━━━━━━━\u001b[0m\u001b[37m\u001b[0m \u001b[1m1s\u001b[0m 1s/step\n",
      "Time Consumed = 1.14 seconds\n",
      "Predicted Class: Melanocytic_Nevus, Class Index: 6 ----->  ✅\n",
      "-------------------------------------------------------------------------------------------------\n",
      "NasNet\n",
      "\u001b[1m1/1\u001b[0m \u001b[32m━━━━━━━━━━━━━━━━━━━━\u001b[0m\u001b[37m\u001b[0m \u001b[1m9s\u001b[0m 9s/step\n",
      "Time Consumed = 9.51 seconds\n",
      "Predicted Class: Melanocytic_Nevus, Class Index: 6 ----->  ✅\n",
      "-------------------------------------------------------------------------------------------------\n",
      "ResNet_50\n",
      "\u001b[1m1/1\u001b[0m \u001b[32m━━━━━━━━━━━━━━━━━━━━\u001b[0m\u001b[37m\u001b[0m \u001b[1m4s\u001b[0m 4s/step\n",
      "Time Consumed = 3.69 seconds\n",
      "Predicted Class: Melanocytic_Nevus, Class Index: 6 ----->  ✅\n"
     ]
    }
   ],
   "source": [
    "image_path = r\"D:\\DermaEvolve_MAJOR\\Test_Images\\Melanocytic_Nevus.jpg\"\n",
    "actual = \"Melanocytic_Nevus\"\n",
    "image_iterate(image_path, actual)"
   ]
  },
  {
   "cell_type": "code",
   "execution_count": 15,
   "id": "cce57e3c-76fb-4828-a0d8-f6dcc436cf00",
   "metadata": {},
   "outputs": [
    {
     "name": "stdout",
     "output_type": "stream",
     "text": [
      "-------------------------------------------------------------------------------------------------\n",
      "CNN_Customized\n",
      "\u001b[1m1/1\u001b[0m \u001b[32m━━━━━━━━━━━━━━━━━━━━\u001b[0m\u001b[37m\u001b[0m \u001b[1m0s\u001b[0m 404ms/step\n",
      "Time Consumed = 0.44 seconds\n",
      "Predicted Class: Melanoma, Class Index: 7 ----->  ✅\n",
      "-------------------------------------------------------------------------------------------------\n",
      "DenseNet_169\n",
      "\u001b[1m1/1\u001b[0m \u001b[32m━━━━━━━━━━━━━━━━━━━━\u001b[0m\u001b[37m\u001b[0m \u001b[1m9s\u001b[0m 9s/step\n",
      "Time Consumed = 9.47 seconds\n",
      "Predicted Class: Melanoma, Class Index: 7 ----->  ✅\n",
      "-------------------------------------------------------------------------------------------------\n",
      "MobileNet\n",
      "\u001b[1m1/1\u001b[0m \u001b[32m━━━━━━━━━━━━━━━━━━━━\u001b[0m\u001b[37m\u001b[0m \u001b[1m1s\u001b[0m 1s/step\n",
      "Time Consumed = 1.50 seconds\n",
      "Predicted Class: Pigmented_Benign_Keratosis, Class Index: 9 ----->  ❌\n",
      "-------------------------------------------------------------------------------------------------\n",
      "NasNet\n",
      "\u001b[1m1/1\u001b[0m \u001b[32m━━━━━━━━━━━━━━━━━━━━\u001b[0m\u001b[37m\u001b[0m \u001b[1m9s\u001b[0m 9s/step\n",
      "Time Consumed = 9.24 seconds\n",
      "Predicted Class: Seborrheic_Keratosis, Class Index: 10 ----->  ❌\n",
      "-------------------------------------------------------------------------------------------------\n",
      "ResNet_50\n",
      "\u001b[1m1/1\u001b[0m \u001b[32m━━━━━━━━━━━━━━━━━━━━\u001b[0m\u001b[37m\u001b[0m \u001b[1m3s\u001b[0m 3s/step\n",
      "Time Consumed = 3.35 seconds\n",
      "Predicted Class: Blue_Naevus, Class Index: 2 ----->  ❌\n"
     ]
    }
   ],
   "source": [
    "image_path = r\"D:\\DermaEvolve_MAJOR\\Test_Images\\Melanoma.jpg\"\n",
    "actual = \"Melanoma\"\n",
    "image_iterate(image_path, actual)"
   ]
  },
  {
   "cell_type": "code",
   "execution_count": 16,
   "id": "d38659ed-ef15-4041-b537-17fbf121c49e",
   "metadata": {},
   "outputs": [
    {
     "name": "stdout",
     "output_type": "stream",
     "text": [
      "-------------------------------------------------------------------------------------------------\n",
      "CNN_Customized\n",
      "\u001b[1m1/1\u001b[0m \u001b[32m━━━━━━━━━━━━━━━━━━━━\u001b[0m\u001b[37m\u001b[0m \u001b[1m0s\u001b[0m 354ms/step\n",
      "Time Consumed = 0.42 seconds\n",
      "Predicted Class: Dermatofibroma, Class Index: 3 ----->  ✅\n",
      "-------------------------------------------------------------------------------------------------\n",
      "DenseNet_169\n",
      "\u001b[1m1/1\u001b[0m \u001b[32m━━━━━━━━━━━━━━━━━━━━\u001b[0m\u001b[37m\u001b[0m \u001b[1m9s\u001b[0m 9s/step\n",
      "Time Consumed = 9.12 seconds\n",
      "Predicted Class: Dermatofibroma, Class Index: 3 ----->  ✅\n",
      "-------------------------------------------------------------------------------------------------\n",
      "MobileNet\n",
      "\u001b[1m1/1\u001b[0m \u001b[32m━━━━━━━━━━━━━━━━━━━━\u001b[0m\u001b[37m\u001b[0m \u001b[1m1s\u001b[0m 1s/step\n",
      "Time Consumed = 1.50 seconds\n",
      "Predicted Class: Dermatofibroma, Class Index: 3 ----->  ✅\n",
      "-------------------------------------------------------------------------------------------------\n",
      "NasNet\n",
      "\u001b[1m1/1\u001b[0m \u001b[32m━━━━━━━━━━━━━━━━━━━━\u001b[0m\u001b[37m\u001b[0m \u001b[1m10s\u001b[0m 10s/step\n",
      "Time Consumed = 9.75 seconds\n",
      "Predicted Class: Dermatofibroma, Class Index: 3 ----->  ✅\n",
      "-------------------------------------------------------------------------------------------------\n",
      "ResNet_50\n",
      "\u001b[1m1/1\u001b[0m \u001b[32m━━━━━━━━━━━━━━━━━━━━\u001b[0m\u001b[37m\u001b[0m \u001b[1m3s\u001b[0m 3s/step\n",
      "Time Consumed = 3.31 seconds\n",
      "Predicted Class: Blue_Naevus, Class Index: 2 ----->  ❌\n"
     ]
    }
   ],
   "source": [
    "image_path = r\"D:\\DermaEvolve_MAJOR\\4_SMOTE_OS\\Synthetic_Images_unprocessed\\Dermatofibroma\\smote_3786.jpg\"\n",
    "actual = \"Dermatofibroma\"\n",
    "image_iterate(image_path, actual)"
   ]
  },
  {
   "cell_type": "code",
   "execution_count": 17,
   "id": "759a8529-40f8-4343-993c-48c8c883a811",
   "metadata": {},
   "outputs": [
    {
     "name": "stdout",
     "output_type": "stream",
     "text": [
      "-------------------------------------------------------------------------------------------------\n",
      "CNN_Customized\n",
      "\u001b[1m1/1\u001b[0m \u001b[32m━━━━━━━━━━━━━━━━━━━━\u001b[0m\u001b[37m\u001b[0m \u001b[1m0s\u001b[0m 312ms/step\n",
      "Time Consumed = 0.36 seconds\n",
      "Predicted Class: Blue_Naevus, Class Index: 2 ----->  ✅\n",
      "-------------------------------------------------------------------------------------------------\n",
      "DenseNet_169\n",
      "\u001b[1m1/1\u001b[0m \u001b[32m━━━━━━━━━━━━━━━━━━━━\u001b[0m\u001b[37m\u001b[0m \u001b[1m9s\u001b[0m 9s/step\n",
      "Time Consumed = 8.57 seconds\n",
      "Predicted Class: Blue_Naevus, Class Index: 2 ----->  ✅\n",
      "-------------------------------------------------------------------------------------------------\n",
      "MobileNet\n",
      "\u001b[1m1/1\u001b[0m \u001b[32m━━━━━━━━━━━━━━━━━━━━\u001b[0m\u001b[37m\u001b[0m \u001b[1m1s\u001b[0m 1s/step\n",
      "Time Consumed = 1.09 seconds\n",
      "Predicted Class: Blue_Naevus, Class Index: 2 ----->  ✅\n",
      "-------------------------------------------------------------------------------------------------\n",
      "NasNet\n",
      "\u001b[1m1/1\u001b[0m \u001b[32m━━━━━━━━━━━━━━━━━━━━\u001b[0m\u001b[37m\u001b[0m \u001b[1m9s\u001b[0m 9s/step\n",
      "Time Consumed = 9.03 seconds\n",
      "Predicted Class: Blue_Naevus, Class Index: 2 ----->  ✅\n",
      "-------------------------------------------------------------------------------------------------\n",
      "ResNet_50\n",
      "\u001b[1m1/1\u001b[0m \u001b[32m━━━━━━━━━━━━━━━━━━━━\u001b[0m\u001b[37m\u001b[0m \u001b[1m3s\u001b[0m 3s/step\n",
      "Time Consumed = 3.28 seconds\n",
      "Predicted Class: Blue_Naevus, Class Index: 2 ----->  ✅\n"
     ]
    }
   ],
   "source": [
    "image_path = r\"D:\\DermaEvolve_MAJOR\\Test_Images\\Blue_Naevus_4.jpg\"\n",
    "actual = \"Blue_Naevus\"\n",
    "image_iterate(image_path, actual)"
   ]
  },
  {
   "cell_type": "code",
   "execution_count": 18,
   "id": "2ba68ad6-1ec9-4c7f-a68b-a2152d827bc1",
   "metadata": {},
   "outputs": [
    {
     "name": "stdout",
     "output_type": "stream",
     "text": [
      "-------------------------------------------------------------------------------------------------\n",
      "CNN_Customized\n",
      "\u001b[1m1/1\u001b[0m \u001b[32m━━━━━━━━━━━━━━━━━━━━\u001b[0m\u001b[37m\u001b[0m \u001b[1m0s\u001b[0m 333ms/step\n",
      "Time Consumed = 0.38 seconds\n",
      "Predicted Class: Elastosis_Perforans_Serpiginosa, Class Index: 4 ----->  ✅\n",
      "-------------------------------------------------------------------------------------------------\n",
      "DenseNet_169\n",
      "\u001b[1m1/1\u001b[0m \u001b[32m━━━━━━━━━━━━━━━━━━━━\u001b[0m\u001b[37m\u001b[0m \u001b[1m9s\u001b[0m 9s/step\n",
      "Time Consumed = 9.30 seconds\n",
      "Predicted Class: Elastosis_Perforans_Serpiginosa, Class Index: 4 ----->  ✅\n",
      "-------------------------------------------------------------------------------------------------\n",
      "MobileNet\n",
      "\u001b[1m1/1\u001b[0m \u001b[32m━━━━━━━━━━━━━━━━━━━━\u001b[0m\u001b[37m\u001b[0m \u001b[1m1s\u001b[0m 1s/step\n",
      "Time Consumed = 1.06 seconds\n",
      "Predicted Class: Elastosis_Perforans_Serpiginosa, Class Index: 4 ----->  ✅\n",
      "-------------------------------------------------------------------------------------------------\n",
      "NasNet\n",
      "\u001b[1m1/1\u001b[0m \u001b[32m━━━━━━━━━━━━━━━━━━━━\u001b[0m\u001b[37m\u001b[0m \u001b[1m9s\u001b[0m 9s/step\n",
      "Time Consumed = 9.31 seconds\n",
      "Predicted Class: Elastosis_Perforans_Serpiginosa, Class Index: 4 ----->  ✅\n",
      "-------------------------------------------------------------------------------------------------\n",
      "ResNet_50\n",
      "\u001b[1m1/1\u001b[0m \u001b[32m━━━━━━━━━━━━━━━━━━━━\u001b[0m\u001b[37m\u001b[0m \u001b[1m3s\u001b[0m 3s/step\n",
      "Time Consumed = 3.36 seconds\n",
      "Predicted Class: Dermatofibroma, Class Index: 3 ----->  ❌\n"
     ]
    }
   ],
   "source": [
    "image_path = r\"D:\\DermaEvolve_MAJOR\\Test_Images\\Elastosis_Perforans_Serpiginosa_4.jpg\"\n",
    "actual = \"Elastosis_Perforans_Serpiginosa\"\n",
    "image_iterate(image_path, actual)"
   ]
  },
  {
   "cell_type": "code",
   "execution_count": 19,
   "id": "d0d96cb3-69e0-4def-a959-71f736fbca90",
   "metadata": {},
   "outputs": [
    {
     "name": "stdout",
     "output_type": "stream",
     "text": [
      "-------------------------------------------------------------------------------------------------\n",
      "CNN_Customized\n",
      "\u001b[1m1/1\u001b[0m \u001b[32m━━━━━━━━━━━━━━━━━━━━\u001b[0m\u001b[37m\u001b[0m \u001b[1m0s\u001b[0m 355ms/step\n",
      "Time Consumed = 0.39 seconds\n",
      "Predicted Class: Elastosis_Perforans_Serpiginosa, Class Index: 4 ----->  ✅\n",
      "-------------------------------------------------------------------------------------------------\n",
      "DenseNet_169\n",
      "\u001b[1m1/1\u001b[0m \u001b[32m━━━━━━━━━━━━━━━━━━━━\u001b[0m\u001b[37m\u001b[0m \u001b[1m9s\u001b[0m 9s/step\n",
      "Time Consumed = 9.50 seconds\n",
      "Predicted Class: Elastosis_Perforans_Serpiginosa, Class Index: 4 ----->  ✅\n",
      "-------------------------------------------------------------------------------------------------\n",
      "MobileNet\n",
      "\u001b[1m1/1\u001b[0m \u001b[32m━━━━━━━━━━━━━━━━━━━━\u001b[0m\u001b[37m\u001b[0m \u001b[1m1s\u001b[0m 1s/step\n",
      "Time Consumed = 1.24 seconds\n",
      "Predicted Class: Elastosis_Perforans_Serpiginosa, Class Index: 4 ----->  ✅\n",
      "-------------------------------------------------------------------------------------------------\n",
      "NasNet\n",
      "\u001b[1m1/1\u001b[0m \u001b[32m━━━━━━━━━━━━━━━━━━━━\u001b[0m\u001b[37m\u001b[0m \u001b[1m9s\u001b[0m 9s/step\n",
      "Time Consumed = 8.71 seconds\n",
      "Predicted Class: Elastosis_Perforans_Serpiginosa, Class Index: 4 ----->  ✅\n",
      "-------------------------------------------------------------------------------------------------\n",
      "ResNet_50\n",
      "\u001b[1m1/1\u001b[0m \u001b[32m━━━━━━━━━━━━━━━━━━━━\u001b[0m\u001b[37m\u001b[0m \u001b[1m3s\u001b[0m 3s/step\n",
      "Time Consumed = 2.84 seconds\n",
      "Predicted Class: Blue_Naevus, Class Index: 2 ----->  ❌\n"
     ]
    }
   ],
   "source": [
    "image_path = r\"D:\\DermaEvolve_MAJOR\\Test_Images\\Elastosis_Perforans_Serpiginosa_5.jpg\"\n",
    "actual = \"Elastosis_Perforans_Serpiginosa\"\n",
    "image_iterate(image_path, actual)"
   ]
  },
  {
   "cell_type": "code",
   "execution_count": null,
   "id": "001f2937-9c9a-4a83-8ea6-91e80ec8b6e8",
   "metadata": {},
   "outputs": [],
   "source": []
  }
 ],
 "metadata": {
  "kernelspec": {
   "display_name": "Python 3 (ipykernel)",
   "language": "python",
   "name": "python3"
  },
  "language_info": {
   "codemirror_mode": {
    "name": "ipython",
    "version": 3
   },
   "file_extension": ".py",
   "mimetype": "text/x-python",
   "name": "python",
   "nbconvert_exporter": "python",
   "pygments_lexer": "ipython3",
   "version": "3.11.7"
  }
 },
 "nbformat": 4,
 "nbformat_minor": 5
}
